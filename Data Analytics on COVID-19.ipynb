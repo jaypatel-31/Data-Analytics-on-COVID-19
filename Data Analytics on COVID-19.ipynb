{
 "cells": [
  {
   "cell_type": "markdown",
   "metadata": {},
   "source": [
    "# Importing Libraries"
   ]
  },
  {
   "cell_type": "code",
   "execution_count": 1,
   "metadata": {},
   "outputs": [],
   "source": [
    "import numpy as np\n",
    "import pandas as pd\n",
    "import matplotlib.pyplot as plt\n",
    "%matplotlib inline\n",
    "import seaborn as sns\n",
    "from scipy import stats"
   ]
  },
  {
   "cell_type": "markdown",
   "metadata": {},
   "source": [
    "# Reading Data"
   ]
  },
  {
   "cell_type": "code",
   "execution_count": 2,
   "metadata": {},
   "outputs": [],
   "source": [
    "df_countries = pd.read_csv('wikipedia-iso-country-codes.csv')\n",
    "df_global = pd.read_csv('hospital_beds_global_v1.csv')"
   ]
  },
  {
   "cell_type": "code",
   "execution_count": 3,
   "metadata": {},
   "outputs": [
    {
     "data": {
      "text/html": [
       "<div>\n",
       "<style scoped>\n",
       "    .dataframe tbody tr th:only-of-type {\n",
       "        vertical-align: middle;\n",
       "    }\n",
       "\n",
       "    .dataframe tbody tr th {\n",
       "        vertical-align: top;\n",
       "    }\n",
       "\n",
       "    .dataframe thead th {\n",
       "        text-align: right;\n",
       "    }\n",
       "</style>\n",
       "<table border=\"1\" class=\"dataframe\">\n",
       "  <thead>\n",
       "    <tr style=\"text-align: right;\">\n",
       "      <th></th>\n",
       "      <th>country name</th>\n",
       "      <th>country</th>\n",
       "    </tr>\n",
       "  </thead>\n",
       "  <tbody>\n",
       "    <tr>\n",
       "      <th>0</th>\n",
       "      <td>Afghanistan</td>\n",
       "      <td>AF</td>\n",
       "    </tr>\n",
       "    <tr>\n",
       "      <th>1</th>\n",
       "      <td>Åland Islands</td>\n",
       "      <td>AX</td>\n",
       "    </tr>\n",
       "    <tr>\n",
       "      <th>2</th>\n",
       "      <td>Albania</td>\n",
       "      <td>AL</td>\n",
       "    </tr>\n",
       "    <tr>\n",
       "      <th>3</th>\n",
       "      <td>Algeria</td>\n",
       "      <td>DZ</td>\n",
       "    </tr>\n",
       "    <tr>\n",
       "      <th>4</th>\n",
       "      <td>American Samoa</td>\n",
       "      <td>AS</td>\n",
       "    </tr>\n",
       "  </tbody>\n",
       "</table>\n",
       "</div>"
      ],
      "text/plain": [
       "     country name country\n",
       "0     Afghanistan      AF\n",
       "1   Åland Islands      AX\n",
       "2         Albania      AL\n",
       "3         Algeria      DZ\n",
       "4  American Samoa      AS"
      ]
     },
     "execution_count": 3,
     "metadata": {},
     "output_type": "execute_result"
    }
   ],
   "source": [
    "# REDESIGNING COUNTRIES WITH CODE\n",
    "df_countries.drop('Alpha-3 code',axis=1,inplace=True)\n",
    "df_countries.drop('Numeric code',axis=1,inplace=True)\n",
    "df_countries.drop('ISO 3166-2',axis=1,inplace=True)\n",
    "df_countries.rename(columns={'Alpha-2 code':'country','English short name lower case': 'country name'}, inplace=True)\n",
    "df_countries.head()"
   ]
  },
  {
   "cell_type": "code",
   "execution_count": 4,
   "metadata": {},
   "outputs": [
    {
     "name": "stdout",
     "output_type": "stream",
     "text": [
      "REDESIGNING COUNTRIES WITH CODE\n"
     ]
    },
    {
     "data": {
      "text/html": [
       "<div>\n",
       "<style scoped>\n",
       "    .dataframe tbody tr th:only-of-type {\n",
       "        vertical-align: middle;\n",
       "    }\n",
       "\n",
       "    .dataframe tbody tr th {\n",
       "        vertical-align: top;\n",
       "    }\n",
       "\n",
       "    .dataframe thead th {\n",
       "        text-align: right;\n",
       "    }\n",
       "</style>\n",
       "<table border=\"1\" class=\"dataframe\">\n",
       "  <thead>\n",
       "    <tr style=\"text-align: right;\">\n",
       "      <th></th>\n",
       "      <th>country</th>\n",
       "      <th>lat</th>\n",
       "      <th>lng</th>\n",
       "      <th>type</th>\n",
       "      <th>measure</th>\n",
       "      <th>beds</th>\n",
       "      <th>population</th>\n",
       "      <th>year</th>\n",
       "      <th>source</th>\n",
       "      <th>source_url</th>\n",
       "    </tr>\n",
       "  </thead>\n",
       "  <tbody>\n",
       "    <tr>\n",
       "      <th>0</th>\n",
       "      <td>AD</td>\n",
       "      <td>42.50</td>\n",
       "      <td>1.5</td>\n",
       "      <td>ICU</td>\n",
       "      <td>1000HAB</td>\n",
       "      <td>0.071</td>\n",
       "      <td>83747</td>\n",
       "      <td>2011</td>\n",
       "      <td>icm-journal</td>\n",
       "      <td>https://link.springer.com/article/10.1007/s001...</td>\n",
       "    </tr>\n",
       "    <tr>\n",
       "      <th>1</th>\n",
       "      <td>AD</td>\n",
       "      <td>42.50</td>\n",
       "      <td>1.5</td>\n",
       "      <td>TOTAL</td>\n",
       "      <td>1000HAB</td>\n",
       "      <td>2.500</td>\n",
       "      <td>84463</td>\n",
       "      <td>2009</td>\n",
       "      <td>wdi</td>\n",
       "      <td>https://data.worldbank.org/indicator/SH.MED.BE...</td>\n",
       "    </tr>\n",
       "    <tr>\n",
       "      <th>2</th>\n",
       "      <td>AE</td>\n",
       "      <td>24.00</td>\n",
       "      <td>54.0</td>\n",
       "      <td>TOTAL</td>\n",
       "      <td>1000HAB</td>\n",
       "      <td>1.200</td>\n",
       "      <td>9197910</td>\n",
       "      <td>2013</td>\n",
       "      <td>wdi</td>\n",
       "      <td>https://data.worldbank.org/indicator/SH.MED.BE...</td>\n",
       "    </tr>\n",
       "    <tr>\n",
       "      <th>3</th>\n",
       "      <td>AF</td>\n",
       "      <td>33.00</td>\n",
       "      <td>65.0</td>\n",
       "      <td>TOTAL</td>\n",
       "      <td>1000HAB</td>\n",
       "      <td>0.500</td>\n",
       "      <td>34413603</td>\n",
       "      <td>2015</td>\n",
       "      <td>wdi</td>\n",
       "      <td>https://data.worldbank.org/indicator/SH.MED.BE...</td>\n",
       "    </tr>\n",
       "    <tr>\n",
       "      <th>4</th>\n",
       "      <td>AG</td>\n",
       "      <td>17.05</td>\n",
       "      <td>-61.8</td>\n",
       "      <td>TOTAL</td>\n",
       "      <td>1000HAB</td>\n",
       "      <td>3.800</td>\n",
       "      <td>92562</td>\n",
       "      <td>2014</td>\n",
       "      <td>wdi</td>\n",
       "      <td>https://data.worldbank.org/indicator/SH.MED.BE...</td>\n",
       "    </tr>\n",
       "  </tbody>\n",
       "</table>\n",
       "</div>"
      ],
      "text/plain": [
       "  country    lat   lng   type  measure   beds  population  year       source  \\\n",
       "0      AD  42.50   1.5    ICU  1000HAB  0.071       83747  2011  icm-journal   \n",
       "1      AD  42.50   1.5  TOTAL  1000HAB  2.500       84463  2009          wdi   \n",
       "2      AE  24.00  54.0  TOTAL  1000HAB  1.200     9197910  2013          wdi   \n",
       "3      AF  33.00  65.0  TOTAL  1000HAB  0.500    34413603  2015          wdi   \n",
       "4      AG  17.05 -61.8  TOTAL  1000HAB  3.800       92562  2014          wdi   \n",
       "\n",
       "                                          source_url  \n",
       "0  https://link.springer.com/article/10.1007/s001...  \n",
       "1  https://data.worldbank.org/indicator/SH.MED.BE...  \n",
       "2  https://data.worldbank.org/indicator/SH.MED.BE...  \n",
       "3  https://data.worldbank.org/indicator/SH.MED.BE...  \n",
       "4  https://data.worldbank.org/indicator/SH.MED.BE...  "
      ]
     },
     "execution_count": 4,
     "metadata": {},
     "output_type": "execute_result"
    }
   ],
   "source": [
    "print(\"REDESIGNING COUNTRIES WITH CODE\")\n",
    "df_global.drop('county',axis=1,inplace=True)\n",
    "df_global.drop('state',axis=1,inplace=True)\n",
    "df_global.head()"
   ]
  },
  {
   "cell_type": "code",
   "execution_count": 5,
   "metadata": {},
   "outputs": [
    {
     "name": "stdout",
     "output_type": "stream",
     "text": [
      "REDESIGNING GLOBAL DATAFRAME\n"
     ]
    },
    {
     "data": {
      "text/html": [
       "<div>\n",
       "<style scoped>\n",
       "    .dataframe tbody tr th:only-of-type {\n",
       "        vertical-align: middle;\n",
       "    }\n",
       "\n",
       "    .dataframe tbody tr th {\n",
       "        vertical-align: top;\n",
       "    }\n",
       "\n",
       "    .dataframe thead th {\n",
       "        text-align: right;\n",
       "    }\n",
       "</style>\n",
       "<table border=\"1\" class=\"dataframe\">\n",
       "  <thead>\n",
       "    <tr style=\"text-align: right;\">\n",
       "      <th></th>\n",
       "      <th>country name</th>\n",
       "      <th>country</th>\n",
       "      <th>beds</th>\n",
       "      <th>type</th>\n",
       "      <th>year</th>\n",
       "      <th>lat</th>\n",
       "      <th>lng</th>\n",
       "      <th>population</th>\n",
       "    </tr>\n",
       "  </thead>\n",
       "  <tbody>\n",
       "    <tr>\n",
       "      <th>0</th>\n",
       "      <td>Andorra</td>\n",
       "      <td>AD</td>\n",
       "      <td>0.071</td>\n",
       "      <td>ICU</td>\n",
       "      <td>2011</td>\n",
       "      <td>42.50</td>\n",
       "      <td>1.5</td>\n",
       "      <td>83747</td>\n",
       "    </tr>\n",
       "    <tr>\n",
       "      <th>1</th>\n",
       "      <td>Andorra</td>\n",
       "      <td>AD</td>\n",
       "      <td>2.500</td>\n",
       "      <td>TOTAL</td>\n",
       "      <td>2009</td>\n",
       "      <td>42.50</td>\n",
       "      <td>1.5</td>\n",
       "      <td>84463</td>\n",
       "    </tr>\n",
       "    <tr>\n",
       "      <th>2</th>\n",
       "      <td>United Arab Emirates</td>\n",
       "      <td>AE</td>\n",
       "      <td>1.200</td>\n",
       "      <td>TOTAL</td>\n",
       "      <td>2013</td>\n",
       "      <td>24.00</td>\n",
       "      <td>54.0</td>\n",
       "      <td>9197910</td>\n",
       "    </tr>\n",
       "    <tr>\n",
       "      <th>3</th>\n",
       "      <td>Afghanistan</td>\n",
       "      <td>AF</td>\n",
       "      <td>0.500</td>\n",
       "      <td>TOTAL</td>\n",
       "      <td>2015</td>\n",
       "      <td>33.00</td>\n",
       "      <td>65.0</td>\n",
       "      <td>34413603</td>\n",
       "    </tr>\n",
       "    <tr>\n",
       "      <th>4</th>\n",
       "      <td>Antigua and Barbuda</td>\n",
       "      <td>AG</td>\n",
       "      <td>3.800</td>\n",
       "      <td>TOTAL</td>\n",
       "      <td>2014</td>\n",
       "      <td>17.05</td>\n",
       "      <td>-61.8</td>\n",
       "      <td>92562</td>\n",
       "    </tr>\n",
       "  </tbody>\n",
       "</table>\n",
       "</div>"
      ],
      "text/plain": [
       "           country name country   beds   type  year    lat   lng  population\n",
       "0               Andorra      AD  0.071    ICU  2011  42.50   1.5       83747\n",
       "1               Andorra      AD  2.500  TOTAL  2009  42.50   1.5       84463\n",
       "2  United Arab Emirates      AE  1.200  TOTAL  2013  24.00  54.0     9197910\n",
       "3           Afghanistan      AF  0.500  TOTAL  2015  33.00  65.0    34413603\n",
       "4   Antigua and Barbuda      AG  3.800  TOTAL  2014  17.05 -61.8       92562"
      ]
     },
     "execution_count": 5,
     "metadata": {},
     "output_type": "execute_result"
    }
   ],
   "source": [
    "print(\"REDESIGNING GLOBAL DATAFRAME\")\n",
    "df_global = df_global.merge(df_countries, how='left')\n",
    "df_global = df_global[['country name', 'country', 'beds', 'type', 'year', 'lat', 'lng', 'population']]\n",
    "df_global.head()"
   ]
  },
  {
   "cell_type": "markdown",
   "metadata": {},
   "source": [
    "# Reading India and USA csv files"
   ]
  },
  {
   "cell_type": "code",
   "execution_count": 6,
   "metadata": {},
   "outputs": [],
   "source": [
    "data_india=pd.read_csv('hospital_beds_per_india_v1.csv')\n",
    "data_usa=pd.read_csv('hospital_beds_USA_v1.csv')\n",
    "indian=data_india.iloc[:,:].values\n",
    "usa=data_usa.iloc[:,:].values"
   ]
  },
  {
   "cell_type": "code",
   "execution_count": 7,
   "metadata": {},
   "outputs": [
    {
     "name": "stdout",
     "output_type": "stream",
     "text": [
      "READING INDIA DATAFRAME\n"
     ]
    },
    {
     "data": {
      "text/html": [
       "<div>\n",
       "<style scoped>\n",
       "    .dataframe tbody tr th:only-of-type {\n",
       "        vertical-align: middle;\n",
       "    }\n",
       "\n",
       "    .dataframe tbody tr th {\n",
       "        vertical-align: top;\n",
       "    }\n",
       "\n",
       "    .dataframe thead th {\n",
       "        text-align: right;\n",
       "    }\n",
       "</style>\n",
       "<table border=\"1\" class=\"dataframe\">\n",
       "  <thead>\n",
       "    <tr style=\"text-align: right;\">\n",
       "      <th></th>\n",
       "      <th>country</th>\n",
       "      <th>state</th>\n",
       "      <th>lat</th>\n",
       "      <th>lng</th>\n",
       "      <th>type</th>\n",
       "      <th>beds</th>\n",
       "      <th>population</th>\n",
       "      <th>year</th>\n",
       "    </tr>\n",
       "  </thead>\n",
       "  <tbody>\n",
       "    <tr>\n",
       "      <th>0</th>\n",
       "      <td>IN</td>\n",
       "      <td>AN</td>\n",
       "      <td>11.7401</td>\n",
       "      <td>92.6586</td>\n",
       "      <td>TOTAL</td>\n",
       "      <td>2.825081</td>\n",
       "      <td>380520</td>\n",
       "      <td>2016</td>\n",
       "    </tr>\n",
       "    <tr>\n",
       "      <th>1</th>\n",
       "      <td>IN</td>\n",
       "      <td>AP</td>\n",
       "      <td>15.9129</td>\n",
       "      <td>79.7400</td>\n",
       "      <td>TOTAL</td>\n",
       "      <td>0.436072</td>\n",
       "      <td>53060000</td>\n",
       "      <td>2017</td>\n",
       "    </tr>\n",
       "    <tr>\n",
       "      <th>2</th>\n",
       "      <td>IN</td>\n",
       "      <td>AR</td>\n",
       "      <td>28.2180</td>\n",
       "      <td>94.7278</td>\n",
       "      <td>TOTAL</td>\n",
       "      <td>1.427893</td>\n",
       "      <td>1683600</td>\n",
       "      <td>2018</td>\n",
       "    </tr>\n",
       "    <tr>\n",
       "      <th>3</th>\n",
       "      <td>IN</td>\n",
       "      <td>AS</td>\n",
       "      <td>26.2006</td>\n",
       "      <td>92.9376</td>\n",
       "      <td>TOTAL</td>\n",
       "      <td>0.497753</td>\n",
       "      <td>34438756</td>\n",
       "      <td>2017</td>\n",
       "    </tr>\n",
       "    <tr>\n",
       "      <th>4</th>\n",
       "      <td>IN</td>\n",
       "      <td>BR</td>\n",
       "      <td>25.0961</td>\n",
       "      <td>85.3131</td>\n",
       "      <td>TOTAL</td>\n",
       "      <td>0.094838</td>\n",
       "      <td>122988691</td>\n",
       "      <td>2018</td>\n",
       "    </tr>\n",
       "  </tbody>\n",
       "</table>\n",
       "</div>"
      ],
      "text/plain": [
       "  country state      lat      lng   type      beds  population  year\n",
       "0      IN    AN  11.7401  92.6586  TOTAL  2.825081      380520  2016\n",
       "1      IN    AP  15.9129  79.7400  TOTAL  0.436072    53060000  2017\n",
       "2      IN    AR  28.2180  94.7278  TOTAL  1.427893     1683600  2018\n",
       "3      IN    AS  26.2006  92.9376  TOTAL  0.497753    34438756  2017\n",
       "4      IN    BR  25.0961  85.3131  TOTAL  0.094838   122988691  2018"
      ]
     },
     "execution_count": 7,
     "metadata": {},
     "output_type": "execute_result"
    }
   ],
   "source": [
    "print(\"READING INDIA DATAFRAME\")\n",
    "data_india.drop('county',axis=1,inplace=True)\n",
    "data_india.drop('measure',axis=1,inplace=True)\n",
    "data_india.drop('source',axis=1,inplace=True)\n",
    "data_india.drop('source_url',axis=1,inplace=True)\n",
    "data_india.head()"
   ]
  },
  {
   "cell_type": "code",
   "execution_count": 8,
   "metadata": {},
   "outputs": [
    {
     "name": "stdout",
     "output_type": "stream",
     "text": [
      "READING USA DATAFRAME\n"
     ]
    },
    {
     "data": {
      "text/html": [
       "<div>\n",
       "<style scoped>\n",
       "    .dataframe tbody tr th:only-of-type {\n",
       "        vertical-align: middle;\n",
       "    }\n",
       "\n",
       "    .dataframe tbody tr th {\n",
       "        vertical-align: top;\n",
       "    }\n",
       "\n",
       "    .dataframe thead th {\n",
       "        text-align: right;\n",
       "    }\n",
       "</style>\n",
       "<table border=\"1\" class=\"dataframe\">\n",
       "  <thead>\n",
       "    <tr style=\"text-align: right;\">\n",
       "      <th></th>\n",
       "      <th>country</th>\n",
       "      <th>state</th>\n",
       "      <th>lat</th>\n",
       "      <th>lng</th>\n",
       "      <th>type</th>\n",
       "      <th>beds</th>\n",
       "      <th>population</th>\n",
       "      <th>year</th>\n",
       "    </tr>\n",
       "  </thead>\n",
       "  <tbody>\n",
       "    <tr>\n",
       "      <th>0</th>\n",
       "      <td>US</td>\n",
       "      <td>AK</td>\n",
       "      <td>63.588753</td>\n",
       "      <td>-154.493062</td>\n",
       "      <td>ICU</td>\n",
       "      <td>0.000000</td>\n",
       "      <td>3338</td>\n",
       "      <td>2019</td>\n",
       "    </tr>\n",
       "    <tr>\n",
       "      <th>1</th>\n",
       "      <td>US</td>\n",
       "      <td>AK</td>\n",
       "      <td>63.588753</td>\n",
       "      <td>-154.493062</td>\n",
       "      <td>ICU</td>\n",
       "      <td>0.000000</td>\n",
       "      <td>5784</td>\n",
       "      <td>2019</td>\n",
       "    </tr>\n",
       "    <tr>\n",
       "      <th>2</th>\n",
       "      <td>US</td>\n",
       "      <td>AK</td>\n",
       "      <td>63.588753</td>\n",
       "      <td>-154.493062</td>\n",
       "      <td>ACUTE</td>\n",
       "      <td>2.182916</td>\n",
       "      <td>298225</td>\n",
       "      <td>2018</td>\n",
       "    </tr>\n",
       "    <tr>\n",
       "      <th>3</th>\n",
       "      <td>US</td>\n",
       "      <td>AK</td>\n",
       "      <td>63.588753</td>\n",
       "      <td>-154.493062</td>\n",
       "      <td>ICU</td>\n",
       "      <td>0.244782</td>\n",
       "      <td>298225</td>\n",
       "      <td>2019</td>\n",
       "    </tr>\n",
       "    <tr>\n",
       "      <th>4</th>\n",
       "      <td>US</td>\n",
       "      <td>AK</td>\n",
       "      <td>63.588753</td>\n",
       "      <td>-154.493062</td>\n",
       "      <td>OTHER</td>\n",
       "      <td>0.191131</td>\n",
       "      <td>298225</td>\n",
       "      <td>2019</td>\n",
       "    </tr>\n",
       "  </tbody>\n",
       "</table>\n",
       "</div>"
      ],
      "text/plain": [
       "  country state        lat         lng   type      beds  population  year\n",
       "0      US    AK  63.588753 -154.493062    ICU  0.000000        3338  2019\n",
       "1      US    AK  63.588753 -154.493062    ICU  0.000000        5784  2019\n",
       "2      US    AK  63.588753 -154.493062  ACUTE  2.182916      298225  2018\n",
       "3      US    AK  63.588753 -154.493062    ICU  0.244782      298225  2019\n",
       "4      US    AK  63.588753 -154.493062  OTHER  0.191131      298225  2019"
      ]
     },
     "execution_count": 8,
     "metadata": {},
     "output_type": "execute_result"
    }
   ],
   "source": [
    "print(\"READING USA DATAFRAME\")\n",
    "data_usa.drop('county',axis=1,inplace=True)\n",
    "data_usa.drop('measure',axis=1,inplace=True)\n",
    "data_usa.drop('source',axis=1,inplace=True)\n",
    "data_usa.drop('source_url',axis=1,inplace=True)\n",
    "data_usa.head()"
   ]
  },
  {
   "cell_type": "markdown",
   "metadata": {},
   "source": [
    "#  General Statistics"
   ]
  },
  {
   "cell_type": "markdown",
   "metadata": {},
   "source": [
    "#### USA"
   ]
  },
  {
   "cell_type": "code",
   "execution_count": 9,
   "metadata": {},
   "outputs": [
    {
     "name": "stdout",
     "output_type": "stream",
     "text": [
      "USA\n"
     ]
    },
    {
     "data": {
      "text/html": [
       "<div>\n",
       "<style scoped>\n",
       "    .dataframe tbody tr th:only-of-type {\n",
       "        vertical-align: middle;\n",
       "    }\n",
       "\n",
       "    .dataframe tbody tr th {\n",
       "        vertical-align: top;\n",
       "    }\n",
       "\n",
       "    .dataframe thead th {\n",
       "        text-align: right;\n",
       "    }\n",
       "</style>\n",
       "<table border=\"1\" class=\"dataframe\">\n",
       "  <thead>\n",
       "    <tr style=\"text-align: right;\">\n",
       "      <th></th>\n",
       "      <th>lat</th>\n",
       "      <th>lng</th>\n",
       "      <th>beds</th>\n",
       "      <th>population</th>\n",
       "      <th>year</th>\n",
       "    </tr>\n",
       "  </thead>\n",
       "  <tbody>\n",
       "    <tr>\n",
       "      <th>count</th>\n",
       "      <td>5713.000000</td>\n",
       "      <td>5713.000000</td>\n",
       "      <td>5713.000000</td>\n",
       "      <td>5.713000e+03</td>\n",
       "      <td>5713.000000</td>\n",
       "    </tr>\n",
       "    <tr>\n",
       "      <th>mean</th>\n",
       "      <td>38.038590</td>\n",
       "      <td>-91.593572</td>\n",
       "      <td>1.647644</td>\n",
       "      <td>1.716983e+05</td>\n",
       "      <td>2018.280763</td>\n",
       "    </tr>\n",
       "    <tr>\n",
       "      <th>std</th>\n",
       "      <td>5.362105</td>\n",
       "      <td>13.230439</td>\n",
       "      <td>3.101818</td>\n",
       "      <td>4.624376e+05</td>\n",
       "      <td>0.907452</td>\n",
       "    </tr>\n",
       "    <tr>\n",
       "      <th>min</th>\n",
       "      <td>19.898682</td>\n",
       "      <td>-155.665857</td>\n",
       "      <td>0.000000</td>\n",
       "      <td>7.400000e+01</td>\n",
       "      <td>2012.000000</td>\n",
       "    </tr>\n",
       "    <tr>\n",
       "      <th>25%</th>\n",
       "      <td>33.836081</td>\n",
       "      <td>-99.901813</td>\n",
       "      <td>0.141784</td>\n",
       "      <td>1.708800e+04</td>\n",
       "      <td>2018.000000</td>\n",
       "    </tr>\n",
       "    <tr>\n",
       "      <th>50%</th>\n",
       "      <td>37.964253</td>\n",
       "      <td>-89.398528</td>\n",
       "      <td>0.616614</td>\n",
       "      <td>4.282600e+04</td>\n",
       "      <td>2018.000000</td>\n",
       "    </tr>\n",
       "    <tr>\n",
       "      <th>75%</th>\n",
       "      <td>41.492537</td>\n",
       "      <td>-82.907123</td>\n",
       "      <td>2.225851</td>\n",
       "      <td>1.370960e+05</td>\n",
       "      <td>2019.000000</td>\n",
       "    </tr>\n",
       "    <tr>\n",
       "      <th>max</th>\n",
       "      <td>63.588753</td>\n",
       "      <td>-69.445469</td>\n",
       "      <td>90.466352</td>\n",
       "      <td>1.010572e+07</td>\n",
       "      <td>2020.000000</td>\n",
       "    </tr>\n",
       "  </tbody>\n",
       "</table>\n",
       "</div>"
      ],
      "text/plain": [
       "               lat          lng         beds    population         year\n",
       "count  5713.000000  5713.000000  5713.000000  5.713000e+03  5713.000000\n",
       "mean     38.038590   -91.593572     1.647644  1.716983e+05  2018.280763\n",
       "std       5.362105    13.230439     3.101818  4.624376e+05     0.907452\n",
       "min      19.898682  -155.665857     0.000000  7.400000e+01  2012.000000\n",
       "25%      33.836081   -99.901813     0.141784  1.708800e+04  2018.000000\n",
       "50%      37.964253   -89.398528     0.616614  4.282600e+04  2018.000000\n",
       "75%      41.492537   -82.907123     2.225851  1.370960e+05  2019.000000\n",
       "max      63.588753   -69.445469    90.466352  1.010572e+07  2020.000000"
      ]
     },
     "execution_count": 9,
     "metadata": {},
     "output_type": "execute_result"
    }
   ],
   "source": [
    "print(\"USA\")\n",
    "data_usa.describe()"
   ]
  },
  {
   "cell_type": "markdown",
   "metadata": {},
   "source": [
    "### Conclusion of general statics of USA"
   ]
  },
  {
   "cell_type": "code",
   "execution_count": 10,
   "metadata": {},
   "outputs": [
    {
     "name": "stdout",
     "output_type": "stream",
     "text": [
      "USA Statestical Data:\n",
      "Mean of the COVID-19 population: 171698.32592333274\n",
      "Median of the COVID-19 population: 42826.0\n",
      "ArithmeticMode of the COVID-19 population: ModeResult(mode=array([14631], dtype=object), count=array([6]))\n"
     ]
    }
   ],
   "source": [
    "print(\"USA Statestical Data:\")\n",
    "print(f\"Mean of the COVID-19 population: {np.mean(usa[:,8])}\")\n",
    "print(f\"Median of the COVID-19 population: {np.median(usa[:,8])}\")\n",
    "print(f\"ArithmeticMode of the COVID-19 population: {stats.mode(usa[:,8])}\")\n",
    "usa_stat=[np.mean(usa[:,8]),np.median(usa[:,8]),stats.mode(usa[:,8])]"
   ]
  },
  {
   "cell_type": "markdown",
   "metadata": {},
   "source": [
    "#### INDIA"
   ]
  },
  {
   "cell_type": "code",
   "execution_count": 11,
   "metadata": {},
   "outputs": [
    {
     "name": "stdout",
     "output_type": "stream",
     "text": [
      "INDIA\n"
     ]
    },
    {
     "data": {
      "text/html": [
       "<div>\n",
       "<style scoped>\n",
       "    .dataframe tbody tr th:only-of-type {\n",
       "        vertical-align: middle;\n",
       "    }\n",
       "\n",
       "    .dataframe tbody tr th {\n",
       "        vertical-align: top;\n",
       "    }\n",
       "\n",
       "    .dataframe thead th {\n",
       "        text-align: right;\n",
       "    }\n",
       "</style>\n",
       "<table border=\"1\" class=\"dataframe\">\n",
       "  <thead>\n",
       "    <tr style=\"text-align: right;\">\n",
       "      <th></th>\n",
       "      <th>lat</th>\n",
       "      <th>lng</th>\n",
       "      <th>beds</th>\n",
       "      <th>population</th>\n",
       "      <th>year</th>\n",
       "    </tr>\n",
       "  </thead>\n",
       "  <tbody>\n",
       "    <tr>\n",
       "      <th>count</th>\n",
       "      <td>37.000000</td>\n",
       "      <td>37.000000</td>\n",
       "      <td>37.000000</td>\n",
       "      <td>3.700000e+01</td>\n",
       "      <td>37.000000</td>\n",
       "    </tr>\n",
       "    <tr>\n",
       "      <th>mean</th>\n",
       "      <td>22.500439</td>\n",
       "      <td>81.595037</td>\n",
       "      <td>27.304251</td>\n",
       "      <td>7.063516e+07</td>\n",
       "      <td>2016.756757</td>\n",
       "    </tr>\n",
       "    <tr>\n",
       "      <th>std</th>\n",
       "      <td>6.490228</td>\n",
       "      <td>7.347561</td>\n",
       "      <td>159.577108</td>\n",
       "      <td>2.216202e+08</td>\n",
       "      <td>1.211184</td>\n",
       "    </tr>\n",
       "    <tr>\n",
       "      <th>min</th>\n",
       "      <td>8.295441</td>\n",
       "      <td>71.192400</td>\n",
       "      <td>0.094838</td>\n",
       "      <td>7.978800e+04</td>\n",
       "      <td>2014.000000</td>\n",
       "    </tr>\n",
       "    <tr>\n",
       "      <th>25%</th>\n",
       "      <td>19.751500</td>\n",
       "      <td>76.085600</td>\n",
       "      <td>0.436072</td>\n",
       "      <td>1.510000e+06</td>\n",
       "      <td>2016.000000</td>\n",
       "    </tr>\n",
       "    <tr>\n",
       "      <th>50%</th>\n",
       "      <td>23.164500</td>\n",
       "      <td>79.019300</td>\n",
       "      <td>0.815190</td>\n",
       "      <td>2.630000e+07</td>\n",
       "      <td>2017.000000</td>\n",
       "    </tr>\n",
       "    <tr>\n",
       "      <th>75%</th>\n",
       "      <td>27.023800</td>\n",
       "      <td>87.855000</td>\n",
       "      <td>1.427893</td>\n",
       "      <td>5.306000e+07</td>\n",
       "      <td>2018.000000</td>\n",
       "    </tr>\n",
       "    <tr>\n",
       "      <th>max</th>\n",
       "      <td>33.778200</td>\n",
       "      <td>94.727800</td>\n",
       "      <td>971.725071</td>\n",
       "      <td>1.353000e+09</td>\n",
       "      <td>2018.000000</td>\n",
       "    </tr>\n",
       "  </tbody>\n",
       "</table>\n",
       "</div>"
      ],
      "text/plain": [
       "             lat        lng        beds    population         year\n",
       "count  37.000000  37.000000   37.000000  3.700000e+01    37.000000\n",
       "mean   22.500439  81.595037   27.304251  7.063516e+07  2016.756757\n",
       "std     6.490228   7.347561  159.577108  2.216202e+08     1.211184\n",
       "min     8.295441  71.192400    0.094838  7.978800e+04  2014.000000\n",
       "25%    19.751500  76.085600    0.436072  1.510000e+06  2016.000000\n",
       "50%    23.164500  79.019300    0.815190  2.630000e+07  2017.000000\n",
       "75%    27.023800  87.855000    1.427893  5.306000e+07  2018.000000\n",
       "max    33.778200  94.727800  971.725071  1.353000e+09  2018.000000"
      ]
     },
     "execution_count": 11,
     "metadata": {},
     "output_type": "execute_result"
    }
   ],
   "source": [
    "print(\"INDIA\")\n",
    "data_india.describe()"
   ]
  },
  {
   "cell_type": "markdown",
   "metadata": {},
   "source": [
    "### Conclusion of general Statistics of INDIA"
   ]
  },
  {
   "cell_type": "code",
   "execution_count": 12,
   "metadata": {},
   "outputs": [
    {
     "name": "stdout",
     "output_type": "stream",
     "text": [
      "INDIA Statestical Data:\n",
      "Mean of the COVID-19 population: 70635155.45945945\n",
      "Median of the COVID-19 population: 26300000.0\n",
      "ArithmeticMode of the COVID-19 population: ModeResult(mode=array([79788], dtype=object), count=array([1]))\n"
     ]
    }
   ],
   "source": [
    "print(\"INDIA Statestical Data:\")\n",
    "print(f\"Mean of the COVID-19 population: {np.mean(indian[:,8])}\")\n",
    "print(f\"Median of the COVID-19 population: {np.median(indian[:,8])}\")\n",
    "print(f\"ArithmeticMode of the COVID-19 population: {stats.mode(indian[:,8])}\")\n",
    "india_stat=[np.mean(usa[:,8]),np.median(usa[:,8]),stats.mode(usa[:,8])]"
   ]
  },
  {
   "cell_type": "markdown",
   "metadata": {},
   "source": [
    "### General Conclusion of statistics"
   ]
  },
  {
   "cell_type": "code",
   "execution_count": 13,
   "metadata": {},
   "outputs": [
    {
     "name": "stdout",
     "output_type": "stream",
     "text": [
      "According to the given data the mean of Indian population of COVID-19 infected people exceed USA by approx.. 70463457.13353612.\n",
      "According to the given data the median of Indian population of COVID-19 infected people exceed USA by approx.. 26257174.0.\n"
     ]
    }
   ],
   "source": [
    "print('According to the given data the mean of Indian population of COVID-19 infected people exceed USA by approx.. 70463457.13353612.')\n",
    "print('According to the given data the median of Indian population of COVID-19 infected people exceed USA by approx.. 26257174.0.')"
   ]
  },
  {
   "cell_type": "markdown",
   "metadata": {},
   "source": [
    "# Graphical Anylises"
   ]
  },
  {
   "cell_type": "markdown",
   "metadata": {},
   "source": [
    "### USA"
   ]
  },
  {
   "cell_type": "code",
   "execution_count": 14,
   "metadata": {},
   "outputs": [
    {
     "data": {
      "image/png": "[encoded data removed]",
      "text/plain": [
       "<Figure size 1080x576 with 2 Axes>"
      ]
     },
     "metadata": {
      "needs_background": "light"
     },
     "output_type": "display_data"
    }
   ],
   "source": [
    "f, axes = plt.subplots(1, 2,figsize=(15,8))\n",
    "sns.barplot(  y=\"population\", x= \"year\", data=data_usa , ax=axes[0])\n",
    "sns.barplot(  y=\"beds\", x= \"year\", data=data_usa ,  ax=axes[1]);"
   ]
  },
  {
   "cell_type": "code",
   "execution_count": 15,
   "metadata": {},
   "outputs": [
    {
     "data": {
      "image/png": "[encoded data removed]",
      "text/plain": [
       "<Figure size 1080x576 with 2 Axes>"
      ]
     },
     "metadata": {
      "needs_background": "light"
     },
     "output_type": "display_data"
    }
   ],
   "source": [
    "f, axes = plt.subplots(1, 2,figsize=(15,8))\n",
    "sns.barplot(  y=\"lat\", x= \"year\", data=data_usa , ax=axes[0])\n",
    "sns.barplot(  y=\"lng\", x= \"year\", data=data_usa ,  ax=axes[1]);"
   ]
  },
  {
   "cell_type": "code",
   "execution_count": 16,
   "metadata": {},
   "outputs": [
    {
     "data": {
      "image/png": "[encoded data removed]",
      "text/plain": [
       "<Figure size 432x288 with 1 Axes>"
      ]
     },
     "metadata": {
      "needs_background": "light"
     },
     "output_type": "display_data"
    }
   ],
   "source": [
    "df_group=data_usa.groupby(['state','year'])[['population','beds']].sum()\n",
    "df_temp=df_group.reset_index()\n",
    "index = df_temp[ df_temp['year'] == 2020 ].index\n",
    "df_temp.drop(index , inplace=True)\n",
    "df_TX= df_temp[df_temp['state'] == \"TX\"]\n",
    "df_CA= df_temp[df_temp['state'] == \"CA\"]\n",
    "df_FL= df_temp[df_temp['state'] == \"FL\"]\n",
    "plt.plot(df_TX.year,df_TX.beds,color=\"#E9967A\",linewidth=3, label=\"TX\")\n",
    "plt.plot(df_CA.year,df_CA.beds,color=\"#FFD700\",linewidth=3, label=\"CA\")\n",
    "plt.plot(df_FL.year,df_FL.beds,color=\"#9ACD32\",linewidth=3, label=\"FL\")\n",
    "plt.xlabel(\"Year\")\n",
    "plt.ylabel(\"Bed Capacity\")\n",
    "plt.legend()\n",
    "plt.tight_layout()\n",
    "plt.title(\"USA Bed Capacities by States\")\n",
    "plt.show()"
   ]
  },
  {
   "cell_type": "markdown",
   "metadata": {},
   "source": [
    "### Conclusion of graphical analysis of USA"
   ]
  },
  {
   "cell_type": "code",
   "execution_count": 17,
   "metadata": {},
   "outputs": [
    {
     "name": "stdout",
     "output_type": "stream",
     "text": [
      "Clearly Visaulised that Acute type Patient is more as compared to ICU | PSYCHIATRIC | OTHER types\n",
      "Clearly Visaulised that Psychiatric type Patient is very less as compared to ICU | ACUTE | OTHER types\n"
     ]
    }
   ],
   "source": [
    "print('Clearly Visaulised that Acute type Patient is more as compared to ICU | PSYCHIATRIC | OTHER types')\n",
    "print('Clearly Visaulised that Psychiatric type Patient is very less as compared to ICU | ACUTE | OTHER types')"
   ]
  },
  {
   "cell_type": "markdown",
   "metadata": {},
   "source": [
    "### INDIA"
   ]
  },
  {
   "cell_type": "code",
   "execution_count": 18,
   "metadata": {},
   "outputs": [
    {
     "data": {
      "image/png": "[encoded data removed]",
      "text/plain": [
       "<Figure size 1080x576 with 2 Axes>"
      ]
     },
     "metadata": {
      "needs_background": "light"
     },
     "output_type": "display_data"
    }
   ],
   "source": [
    "f, axes = plt.subplots(1, 2,figsize=(15,8))\n",
    "sns.barplot(  y=\"population\", x= \"year\", data=data_india , ax=axes[0])\n",
    "sns.barplot(  y=\"beds\", x= \"year\", data=data_india ,  ax=axes[1]);"
   ]
  },
  {
   "cell_type": "code",
   "execution_count": 19,
   "metadata": {},
   "outputs": [
    {
     "data": {
      "image/png": "[encoded data removed]",
      "text/plain": [
       "<Figure size 1080x576 with 2 Axes>"
      ]
     },
     "metadata": {
      "needs_background": "light"
     },
     "output_type": "display_data"
    }
   ],
   "source": [
    "f, axes = plt.subplots(1, 2,figsize=(15,8))\n",
    "sns.barplot(  y=\"lat\", x= \"year\", data=data_india , ax=axes[0])\n",
    "sns.barplot(  y=\"lng\", x= \"year\", data=data_india ,  ax=axes[1]);"
   ]
  },
  {
   "cell_type": "markdown",
   "metadata": {},
   "source": [
    "### Conclusion of graphical analysis of India"
   ]
  },
  {
   "cell_type": "code",
   "execution_count": 20,
   "metadata": {},
   "outputs": [
    {
     "name": "stdout",
     "output_type": "stream",
     "text": [
      "There is very less deaths and patients are there in INDIA in year 2018 as Population was high and required bed is very less\n",
      "There is relatively more no. of deaths in INDIA in the year 2017 as the Population was Low and required bed is very high\n"
     ]
    }
   ],
   "source": [
    "print('There is very less deaths and patients are there in INDIA in year 2018 as Population was high and required bed is very less')\n",
    "print('There is relatively more no. of deaths in INDIA in the year 2017 as the Population was Low and required bed is very high')"
   ]
  },
  {
   "cell_type": "markdown",
   "metadata": {},
   "source": [
    "# Comparative analysis between two countries"
   ]
  },
  {
   "cell_type": "code",
   "execution_count": 21,
   "metadata": {},
   "outputs": [
    {
     "data": {
      "image/png": "[encoded data removed]",
      "text/plain": [
       "<Figure size 720x504 with 1 Axes>"
      ]
     },
     "metadata": {
      "needs_background": "light"
     },
     "output_type": "display_data"
    }
   ],
   "source": [
    "fig = plt.figure(figsize =(10, 7)) \n",
    "plt.bar(indian[:,4],indian[:,8],color='Red',width=0.4)\n",
    "plt.xlabel(\"Lng\")\n",
    "plt.ylabel(\"Population\")\n",
    "plt.title(\"ANYLYSIS OF THE ING VS POPULATION OF INDIA\")\n",
    "plt.show()"
   ]
  },
  {
   "cell_type": "code",
   "execution_count": 22,
   "metadata": {},
   "outputs": [
    {
     "data": {
      "image/png": "[encoded data removed]",
      "text/plain": [
       "<Figure size 720x504 with 1 Axes>"
      ]
     },
     "metadata": {
      "needs_background": "light"
     },
     "output_type": "display_data"
    }
   ],
   "source": [
    "fig = plt.figure(figsize =(10, 7))\n",
    "plt.bar(usa[:,4],usa[:,8],color='Blue',width=0.4)\n",
    "plt.xlabel(\"Lng\")\n",
    "plt.ylabel(\"Population\")\n",
    "plt.title(\"ANYLYSIS OF THE ING VS POPULATION OF USA \")\n",
    "plt.show()"
   ]
  },
  {
   "cell_type": "code",
   "execution_count": null,
   "metadata": {},
   "outputs": [],
   "source": []
  }
 ],
 "metadata": {
  "kernelspec": {
   "display_name": "Python 3",
   "language": "python",
   "name": "python3"
  },
  "language_info": {
   "codemirror_mode": {
    "name": "ipython",
    "version": 3
   },
   "file_extension": ".py",
   "mimetype": "text/x-python",
   "name": "python",
   "nbconvert_exporter": "python",
   "pygments_lexer": "ipython3",
   "version": "3.7.7"
  }
 },
 "nbformat": 4,
 "nbformat_minor": 4
}
